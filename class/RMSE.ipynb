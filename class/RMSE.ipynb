{
  "nbformat": 4,
  "nbformat_minor": 0,
  "metadata": {
    "colab": {
      "provenance": [],
      "authorship_tag": "ABX9TyO7LnhTcERVA+xgLtHEXLp9",
      "include_colab_link": true
    },
    "kernelspec": {
      "name": "python3",
      "display_name": "Python 3"
    },
    "language_info": {
      "name": "python"
    }
  },
  "cells": [
    {
      "cell_type": "markdown",
      "metadata": {
        "id": "view-in-github",
        "colab_type": "text"
      },
      "source": [
        "<a href=\"https://colab.research.google.com/github/uday1277/House-sale-price-prediction/blob/main/class/RMSE.ipynb\" target=\"_parent\"><img src=\"https://colab.research.google.com/assets/colab-badge.svg\" alt=\"Open In Colab\"/></a>"
      ]
    },
    {
      "cell_type": "code",
      "execution_count": 5,
      "metadata": {
        "colab": {
          "base_uri": "https://localhost:8080/"
        },
        "id": "24WFsqYFUG5u",
        "outputId": "da05894f-20f4-4c82-8366-9ca70a26126b"
      },
      "outputs": [
        {
          "output_type": "stream",
          "name": "stdout",
          "text": [
            "Linear Regression: RMSE = 172254673613177.34\n",
            "KNN: RMSE = 44283.57\n",
            "Random Forest: RMSE = 28815.61\n",
            "Gradient Boosting: RMSE = 27412.47\n",
            "SVR: RMSE = 88649.50\n"
          ]
        }
      ],
      "source": [
        "import numpy as np\n",
        "import pandas as pd\n",
        "from sklearn.model_selection import train_test_split\n",
        "from sklearn.linear_model import LinearRegression\n",
        "from sklearn.neighbors import KNeighborsRegressor\n",
        "from sklearn.ensemble import RandomForestRegressor, GradientBoostingRegressor\n",
        "from sklearn.svm import SVR\n",
        "from sklearn.metrics import mean_squared_error\n",
        "from sklearn.impute import SimpleImputer\n",
        "from sklearn.preprocessing import StandardScaler\n",
        "\n",
        "# Load your dataset\n",
        "data = pd.read_csv(\"train (1).csv\")  # Replace with your dataset\n",
        "\n",
        "# Check for missing values and handle them\n",
        "numerical_cols = data.select_dtypes(include=['int64', 'float64']).columns\n",
        "categorical_cols = data.select_dtypes(include=['object']).columns\n",
        "\n",
        "imputer_num = SimpleImputer(strategy='median')\n",
        "data[numerical_cols] = imputer_num.fit_transform(data[numerical_cols])\n",
        "\n",
        "imputer_cat = SimpleImputer(strategy='most_frequent')\n",
        "data[categorical_cols] = imputer_cat.fit_transform(data[categorical_cols])\n",
        "\n",
        "# Encode categorical data using one-hot encoding\n",
        "data = pd.get_dummies(data, columns=categorical_cols)\n",
        "\n",
        "# Split the data into training and testing sets\n",
        "X = data.drop(\"SalePrice\", axis=1)\n",
        "y = data[\"SalePrice\"]\n",
        "X_train, X_test, y_train, y_test = train_test_split(X, y, test_size=0.2, random_state=42)\n",
        "\n",
        "# Feature scaling (optional, depending on the algorithm)\n",
        "scaler = StandardScaler()\n",
        "X_train = scaler.fit_transform(X_train)\n",
        "X_test = scaler.transform(X_test)\n",
        "\n",
        "# Initialize and train the models\n",
        "models = {\n",
        "    \"Linear Regression\": LinearRegression(),\n",
        "    \"KNN\": KNeighborsRegressor(),\n",
        "    \"Random Forest\": RandomForestRegressor(),\n",
        "    \"Gradient Boosting\": GradientBoostingRegressor(),\n",
        "    \"SVR\": SVR()\n",
        "}\n",
        "\n",
        "results = {}\n",
        "\n",
        "for name, model in models.items():\n",
        "    model.fit(X_train, y_train)\n",
        "    y_pred = model.predict(X_test)\n",
        "    mse = mean_squared_error(y_test, y_pred)\n",
        "    rmse = np.sqrt(mse)\n",
        "    results[name] = rmse\n",
        "\n",
        "# Display the results\n",
        "for model, rmse in results.items():\n",
        "    print(f\"{model}: RMSE = {rmse:.2f}\")\n",
        "\n"
      ]
    }
  ]
}