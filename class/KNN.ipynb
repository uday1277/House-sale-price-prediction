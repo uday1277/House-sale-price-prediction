{
  "nbformat": 4,
  "nbformat_minor": 0,
  "metadata": {
    "colab": {
      "provenance": [],
      "authorship_tag": "ABX9TyPJ2D9fa0jIfUfl4QqdPacd",
      "include_colab_link": true
    },
    "kernelspec": {
      "name": "python3",
      "display_name": "Python 3"
    },
    "language_info": {
      "name": "python"
    }
  },
  "cells": [
    {
      "cell_type": "markdown",
      "metadata": {
        "id": "view-in-github",
        "colab_type": "text"
      },
      "source": [
        "<a href=\"https://colab.research.google.com/github/uday1277/House-sale-price-prediction/blob/main/class/KNN.ipynb\" target=\"_parent\"><img src=\"https://colab.research.google.com/assets/colab-badge.svg\" alt=\"Open In Colab\"/></a>"
      ]
    },
    {
      "cell_type": "code",
      "execution_count": 15,
      "metadata": {
        "colab": {
          "base_uri": "https://localhost:8080/"
        },
        "id": "C2GbGYBNrpjM",
        "outputId": "44d38b28-1e36-4b03-a004-73caf29d0ac1"
      },
      "outputs": [
        {
          "output_type": "stream",
          "name": "stdout",
          "text": [
            "KNN Regression RMSE: 44283.567648519005\n"
          ]
        }
      ],
      "source": [
        "import numpy as np\n",
        "import pandas as pd\n",
        "from sklearn.model_selection import train_test_split\n",
        "from sklearn.neighbors import KNeighborsRegressor\n",
        "from sklearn.metrics import mean_squared_error\n",
        "from math import sqrt\n",
        "from sklearn.impute import SimpleImputer\n",
        "from sklearn.preprocessing import StandardScaler\n",
        "\n",
        "# Load your dataset\n",
        "data = pd.read_csv(\"train (1).csv\")  # Replace with your dataset\n",
        "\n",
        "# Drop the target variable from the dataset\n",
        "X = data.drop(\"SalePrice\", axis=1)\n",
        "y = data[\"SalePrice\"]\n",
        "\n",
        "# Separate numerical and categorical columns\n",
        "numerical_cols = X.select_dtypes(include=['int64', 'float64']).columns\n",
        "categorical_cols = X.select_dtypes(include=['object']).columns\n",
        "\n",
        "# Handle missing values for numerical columns\n",
        "numerical_imputer = SimpleImputer(strategy='median')\n",
        "X[numerical_cols] = numerical_imputer.fit_transform(X[numerical_cols])\n",
        "\n",
        "# Handle missing values for categorical columns\n",
        "categorical_imputer = SimpleImputer(strategy='most_frequent')\n",
        "X[categorical_cols] = categorical_imputer.fit_transform(X[categorical_cols])\n",
        "\n",
        "# One-hot encoding for categorical columns\n",
        "X = pd.get_dummies(X, columns=categorical_cols)\n",
        "\n",
        "# Split the data into training and testing sets\n",
        "X_train, X_test, y_train, y_test = train_test_split(X, y, test_size=0.2, random_state=42)\n",
        "\n",
        "# Feature scaling (optional, depending on the algorithm)\n",
        "scaler = StandardScaler()\n",
        "X_train = scaler.fit_transform(X_train)\n",
        "X_test = scaler.transform(X_test)\n",
        "\n",
        "# K-Nearest Neighbors Regression\n",
        "knn_reg = KNeighborsRegressor(n_neighbors=5)  # You can adjust the number of neighbors (n_neighbors) as needed\n",
        "knn_reg.fit(X_train, y_train)\n",
        "knn_reg_predictions = knn_reg.predict(X_test)\n",
        "\n",
        "knn_reg_rmse = sqrt(mean_squared_error(y_test, knn_reg_predictions))\n",
        "print(\"KNN Regression RMSE:\", knn_reg_rmse)\n"
      ]
    }
  ]
}