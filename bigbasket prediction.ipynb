{
  "nbformat": 4,
  "nbformat_minor": 0,
  "metadata": {
    "colab": {
      "provenance": [],
      "authorship_tag": "ABX9TyNOv+CkGPG0VmpbTz+2VITN",
      "include_colab_link": true
    },
    "kernelspec": {
      "name": "python3",
      "display_name": "Python 3"
    },
    "language_info": {
      "name": "python"
    }
  },
  "cells": [
    {
      "cell_type": "markdown",
      "metadata": {
        "id": "view-in-github",
        "colab_type": "text"
      },
      "source": [
        "<a href=\"https://colab.research.google.com/github/uday1277/House-sale-price-prediction/blob/main/bigbasket%20prediction.ipynb\" target=\"_parent\"><img src=\"https://colab.research.google.com/assets/colab-badge.svg\" alt=\"Open In Colab\"/></a>"
      ]
    },
    {
      "cell_type": "code",
      "execution_count": 9,
      "metadata": {
        "colab": {
          "base_uri": "https://localhost:8080/"
        },
        "id": "PmM58fMZ-dF1",
        "outputId": "17efde9d-c930-485a-8cd2-1a12eb5fb86e"
      },
      "outputs": [
        {
          "output_type": "stream",
          "name": "stdout",
          "text": [
            "R2 Score (Accuracy): 0.9303912382786448\n"
          ]
        }
      ],
      "source": [
        "# Import necessary libraries\n",
        "import pandas as pd\n",
        "from sklearn.model_selection import train_test_split\n",
        "from sklearn.ensemble import RandomForestRegressor\n",
        "from sklearn.metrics import r2_score\n",
        "\n",
        "# Load your Bigbasket sales dataset\n",
        "# Replace 'bigbasket_sales_data.csv' with the actual filename or URL of your dataset\n",
        "df = pd.read_csv('data.csv')\n",
        "\n",
        "# Identify and handle categorical variables\n",
        "categorical_columns = df.select_dtypes(include=['object']).columns\n",
        "df = pd.get_dummies(df, columns=categorical_columns, drop_first=True)\n",
        "\n",
        "# Split the data into features (X) and target variable (y)\n",
        "X = df.drop('sale_price', axis=1)\n",
        "y = df['sale_price']\n",
        "\n",
        "# Split the data into training and testing sets\n",
        "X_train, X_test, y_train, y_test = train_test_split(X, y, test_size=0.2, random_state=42)\n",
        "\n",
        "# Random Forest Regression\n",
        "rf_regressor = RandomForestRegressor(n_estimators=100, random_state=42)\n",
        "rf_regressor.fit(X_train, y_train)\n",
        "\n",
        "# Predictions on the test set\n",
        "y_pred = rf_regressor.predict(X_test)\n",
        "\n",
        "# Evaluate the model\n",
        "accuracy = r2_score(y_test, y_pred)\n",
        "print(f'R2 Score (Accuracy): {accuracy}')\n"
      ]
    },
    {
      "cell_type": "code",
      "source": [
        "# Import necessary libraries\n",
        "import pandas as pd\n",
        "from sklearn.model_selection import train_test_split\n",
        "from sklearn.tree import DecisionTreeRegressor\n",
        "from sklearn.metrics import r2_score\n",
        "\n",
        "# Load your Bigbasket sales dataset\n",
        "# Replace 'data.csv' with the actual filename or URL of your dataset\n",
        "df = pd.read_csv('data.csv')\n",
        "\n",
        "# Identify and handle categorical variables\n",
        "categorical_columns = df.select_dtypes(include=['object']).columns\n",
        "df = pd.get_dummies(df, columns=categorical_columns, drop_first=True)\n",
        "\n",
        "# Split the data into features (X) and target variable (y)\n",
        "X = df.drop('sale_price', axis=1)\n",
        "y = df['sale_price']\n",
        "\n",
        "# Split the data into training and testing sets\n",
        "X_train, X_test, y_train, y_test = train_test_split(X, y, test_size=0.2, random_state=42)\n",
        "\n",
        "# Decision Tree Regression\n",
        "dt_regressor = DecisionTreeRegressor(random_state=42)\n",
        "dt_regressor.fit(X_train, y_train)\n",
        "\n",
        "# Predictions on the test set\n",
        "y_pred = dt_regressor.predict(X_test)\n",
        "\n",
        "# Evaluate the model\n",
        "accuracy = r2_score(y_test, y_pred)\n",
        "print(f'R2 Score (Accuracy): {accuracy}')\n"
      ],
      "metadata": {
        "colab": {
          "base_uri": "https://localhost:8080/"
        },
        "id": "6q-TcSVTIitw",
        "outputId": "4ea94e0b-ec41-4d2d-e405-0b8700d92c40"
      },
      "execution_count": 10,
      "outputs": [
        {
          "output_type": "stream",
          "name": "stdout",
          "text": [
            "R2 Score (Accuracy): 0.9670315048204978\n"
          ]
        }
      ]
    },
    {
      "cell_type": "code",
      "source": [
        "# Import necessary libraries\n",
        "import pandas as pd\n",
        "from sklearn.model_selection import train_test_split\n",
        "from xgboost import XGBRegressor\n",
        "from sklearn.metrics import r2_score\n",
        "\n",
        "# Load your Bigbasket sales dataset\n",
        "# Replace 'data.csv' with the actual filename or URL of your dataset\n",
        "df = pd.read_csv('data.csv')\n",
        "\n",
        "# Identify and handle categorical variables\n",
        "categorical_columns = df.select_dtypes(include=['object']).columns\n",
        "df = pd.get_dummies(df, columns=categorical_columns, drop_first=True)\n",
        "\n",
        "# Split the data into features (X) and target variable (y)\n",
        "X = df.drop('sale_price', axis=1)\n",
        "y = df['sale_price']\n",
        "\n",
        "# Split the data into training and testing sets\n",
        "X_train, X_test, y_train, y_test = train_test_split(X, y, test_size=0.2, random_state=42)\n",
        "\n",
        "# XGBoost Regression\n",
        "xgb_regressor = XGBRegressor(n_estimators=100, random_state=42)\n",
        "xgb_regressor.fit(X_train, y_train)\n",
        "\n",
        "# Predictions on the test set\n",
        "y_pred = xgb_regressor.predict(X_test)\n",
        "\n",
        "# Evaluate the model\n",
        "accuracy = r2_score(y_test, y_pred)\n",
        "print(f'R2 Score (Accuracy): {accuracy}')\n"
      ],
      "metadata": {
        "colab": {
          "base_uri": "https://localhost:8080/"
        },
        "id": "FTopQvWbJMxG",
        "outputId": "86bd94e0-6e75-4364-a7a4-356fbc0eaf98"
      },
      "execution_count": 12,
      "outputs": [
        {
          "output_type": "stream",
          "name": "stdout",
          "text": [
            "R2 Score (Accuracy): 0.8967396664884625\n"
          ]
        }
      ]
    },
    {
      "cell_type": "code",
      "source": [
        "# Import necessary libraries\n",
        "import pandas as pd\n",
        "from sklearn.model_selection import train_test_split\n",
        "from sklearn.linear_model import LinearRegression\n",
        "from sklearn.metrics import r2_score\n",
        "\n",
        "# Load your sales dataset\n",
        "# Replace 'data.csv' with the actual filename or URL of your dataset\n",
        "df = pd.read_csv('data.csv')\n",
        "\n",
        "# Identify and handle categorical variables\n",
        "categorical_columns = df.select_dtypes(include=['object']).columns\n",
        "df = pd.get_dummies(df, columns=categorical_columns, drop_first=True)\n",
        "\n",
        "# Split the data into features (X) and target variable (y)\n",
        "X = df.drop('sale_price', axis=1)\n",
        "y = df['sale_price']\n",
        "\n",
        "# Split the data into training and testing sets\n",
        "X_train, X_test, y_train, y_test = train_test_split(X, y, test_size=0.2, random_state=42)\n",
        "\n",
        "# Linear Regression\n",
        "linear_regressor = LinearRegression()\n",
        "linear_regressor.fit(X_train, y_train)\n",
        "\n",
        "# Predictions on the test set\n",
        "y_pred = linear_regressor.predict(X_test)\n",
        "\n",
        "# Evaluate the model\n",
        "accuracy = r2_score(y_test, y_pred)\n",
        "print(f'R2 Score (Accuracy): {accuracy}')\n"
      ],
      "metadata": {
        "colab": {
          "base_uri": "https://localhost:8080/"
        },
        "id": "KMTgwwx_J7aL",
        "outputId": "9fa613ea-9cff-42b6-8c39-fbe1fee8582e"
      },
      "execution_count": 13,
      "outputs": [
        {
          "output_type": "stream",
          "name": "stdout",
          "text": [
            "R2 Score (Accuracy): 0.7930873497389285\n"
          ]
        }
      ]
    },
    {
      "cell_type": "code",
      "source": [
        "# Import necessary libraries\n",
        "import pandas as pd\n",
        "from sklearn.model_selection import train_test_split\n",
        "from sklearn.neighbors import KNeighborsRegressor\n",
        "from sklearn.metrics import r2_score\n",
        "\n",
        "# Load your sales dataset\n",
        "# Replace 'data.csv' with the actual filename or URL of your dataset\n",
        "df = pd.read_csv('data.csv')\n",
        "\n",
        "# Identify and handle categorical variables\n",
        "categorical_columns = df.select_dtypes(include=['object']).columns\n",
        "df = pd.get_dummies(df, columns=categorical_columns, drop_first=True)\n",
        "\n",
        "# Split the data into features (X) and target variable (y)\n",
        "X = df.drop('sale_price', axis=1)\n",
        "y = df['sale_price']\n",
        "\n",
        "# Split the data into training and testing sets\n",
        "X_train, X_test, y_train, y_test = train_test_split(X, y, test_size=0.2, random_state=42)\n",
        "\n",
        "# KNN Regression\n",
        "knn_regressor = KNeighborsRegressor(n_neighbors=5)  # You can experiment with different values of n_neighbors\n",
        "knn_regressor.fit(X_train, y_train)\n",
        "\n",
        "# Predictions on the test set\n",
        "y_pred = knn_regressor.predict(X_test)\n",
        "\n",
        "# Evaluate the model\n",
        "accuracy = r2_score(y_test, y_pred)\n",
        "print(f'R2 Score (Accuracy): {accuracy}')\n"
      ],
      "metadata": {
        "colab": {
          "base_uri": "https://localhost:8080/"
        },
        "id": "VQy8hFloKaYC",
        "outputId": "89f2419e-1da5-4f29-d1c8-d7cdb3e104d3"
      },
      "execution_count": 15,
      "outputs": [
        {
          "output_type": "stream",
          "name": "stdout",
          "text": [
            "R2 Score (Accuracy): 0.8017874423569056\n"
          ]
        }
      ]
    }
  ]
}